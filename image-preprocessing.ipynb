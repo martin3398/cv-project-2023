{
 "cells": [
  {
   "cell_type": "markdown",
   "metadata": {},
   "source": [
    "### Notebook for Image Preprocessing\n",
    "```\n",
    "Used for comparing, and visualizing various preprocessing steps\n",
    "```"
   ]
  },
  {
   "cell_type": "code",
   "execution_count": null,
   "metadata": {},
   "outputs": [],
   "source": [
    "import glob\n",
    "import os\n",
    "import sys\n",
    "\n",
    "import cv2\n",
    "import easyocr\n",
    "from matplotlib import pyplot as plt\n",
    "\n",
    "from licenseplates.model import lpmodel\n",
    "\n",
    "EXAMPLE_IMAGE_PATH = \"License-Plates-5/test/images\"\n",
    "RESULT_IMAGE_PATH = \"License-Plates-5/output\""
   ]
  },
  {
   "cell_type": "code",
   "execution_count": null,
   "metadata": {},
   "outputs": [],
   "source": [
    "def save_images(curr_img_index, images, titles):\n",
    "    full_path = os.path.join(RESULT_IMAGE_PATH, f\"img-{curr_img_index}\")\n",
    "    if not os.path.exists(full_path):\n",
    "        os.makedirs(full_path)\n",
    "\n",
    "    for image, title in zip(images, titles): \n",
    "        updated_title = title.replace(\" \", \"_\").lower() + \".jpg\"\n",
    "        img_path = os.path.join(full_path, updated_title)\n",
    "        print(img_path)\n",
    "        cv2.imwrite(img_path, image)"
   ]
  },
  {
   "cell_type": "code",
   "execution_count": null,
   "metadata": {},
   "outputs": [],
   "source": [
    "STORE_IMAGES = True"
   ]
  },
  {
   "cell_type": "code",
   "execution_count": null,
   "metadata": {},
   "outputs": [],
   "source": [
    "test_img_paths = glob.glob(os.path.join(EXAMPLE_IMAGE_PATH, \"*.jpg\"))\n",
    "\n",
    "img_select_idx = 22\n",
    "img_path = test_img_paths[img_select_idx]\n",
    "\n",
    "print(\"Index of current image: \", img_select_idx)\n",
    "test_image = cv2.imread(img_path)\n",
    "\n",
    "bounding_box_data = lpmodel.predict_bounding_box(image=test_image, model=lpmodel.load_model())\n",
    "x1, y1, x2, y2 = bounding_box_data[\"bb\"]\n",
    "bb_image = test_image.copy()\n",
    "cv2.rectangle(bb_image, (int(x1), int(y1)), (int(x2), int(y2)), (0, 255, 0), 1)\n",
    "plt.imshow(bb_image)\n",
    "plt.show()\n",
    "\n",
    "reader = easyocr.Reader(['en'])\n",
    "result = reader.readtext(bb_image)\n",
    "print(\"Original Image LP: \", result)\n",
    "\n",
    "border_edges, border_rect = lpmodel.detect_borders(bounding_box_data)\n",
    "border_image = bounding_box_data[\"cropped_img\"].copy()\n",
    "cv2.drawContours(border_image, [border_edges], 0, (0, 255, 0), 2)\n",
    "plt.imshow(border_image)\n",
    "plt.show()\n",
    "\n",
    "transformed_image = lpmodel.transform_license_plate(image=bounding_box_data[\"cropped_img\"], rectangle=border_rect, corners=border_edges)\n",
    "plt.imshow(transformed_image)\n",
    "plt.show()\n",
    "\n",
    "result = reader.readtext(transformed_image)\n",
    "print(\"Transformed Image LP: \", result)\n",
    "\n",
    "lp_text, images, titles = lpmodel.read_license_plate(image=transformed_image)\n",
    "print(\"Preprocessed Image LP: \", lp_text)\n",
    "\n",
    "if STORE_IMAGES is True:\n",
    "    save_images(img_select_idx, images, titles)\n",
    "    STORE_IMAGES = False"
   ]
  },
  {
   "cell_type": "markdown",
   "metadata": {},
   "source": [
    "```\n",
    "Plot preprocessing steps\n",
    "```"
   ]
  },
  {
   "cell_type": "code",
   "execution_count": null,
   "metadata": {},
   "outputs": [],
   "source": [
    "def plot_images(images, titles):\n",
    "    num_images = len(images)\n",
    "\n",
    "    # Create a subplot grid based on the number of images\n",
    "    rows = 2  # You can adjust the number of rows and columns based on your preference\n",
    "    cols = (num_images + 1) // rows\n",
    "\n",
    "    fig, axes = plt.subplots(rows, cols, figsize=(12, 8))\n",
    "\n",
    "    # Flatten the axes if there is only one row\n",
    "    if rows == 1:\n",
    "        axes = axes.reshape(1, -1)\n",
    "\n",
    "    for i in range(num_images):\n",
    "        axes[i // cols, i % cols].imshow(images[i], cmap='gray')\n",
    "        axes[i // cols, i % cols].set_title(titles[i])\n",
    "        axes[i // cols, i % cols].axis('off')\n",
    "\n",
    "    plt.tight_layout()\n",
    "    plt.show()\n",
    "\n",
    "plot_images(images=images, titles=titles)"
   ]
  }
 ],
 "metadata": {
  "kernelspec": {
   "display_name": ".venv",
   "language": "python",
   "name": "python3"
  },
  "language_info": {
   "codemirror_mode": {
    "name": "ipython",
    "version": 3
   },
   "file_extension": ".py",
   "mimetype": "text/x-python",
   "name": "python",
   "nbconvert_exporter": "python",
   "pygments_lexer": "ipython3",
   "version": "3.10.13"
  }
 },
 "nbformat": 4,
 "nbformat_minor": 2
}
