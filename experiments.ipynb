{
 "cells": [
  {
   "cell_type": "code",
   "execution_count": 11,
   "metadata": {},
   "outputs": [
    {
     "data": {
      "text/html": [
       "<div>\n",
       "<style scoped>\n",
       "    .dataframe tbody tr th:only-of-type {\n",
       "        vertical-align: middle;\n",
       "    }\n",
       "\n",
       "    .dataframe tbody tr th {\n",
       "        vertical-align: top;\n",
       "    }\n",
       "\n",
       "    .dataframe thead th {\n",
       "        text-align: right;\n",
       "    }\n",
       "</style>\n",
       "<table border=\"1\" class=\"dataframe\">\n",
       "  <thead>\n",
       "    <tr style=\"text-align: right;\">\n",
       "      <th></th>\n",
       "      <th>Actual_Text</th>\n",
       "      <th>Recognized_Text</th>\n",
       "    </tr>\n",
       "  </thead>\n",
       "  <tbody>\n",
       "    <tr>\n",
       "      <th>0</th>\n",
       "      <td>515-079.73</td>\n",
       "      <td>515.079.73</td>\n",
       "    </tr>\n",
       "    <tr>\n",
       "      <th>1</th>\n",
       "      <td>51G-205.36</td>\n",
       "      <td>51c205.36</td>\n",
       "    </tr>\n",
       "    <tr>\n",
       "      <th>2</th>\n",
       "      <td>51G-510.08</td>\n",
       "      <td>516-51008</td>\n",
       "    </tr>\n",
       "    <tr>\n",
       "      <th>3</th>\n",
       "      <td>51F-244.03</td>\n",
       "      <td>BIF.244.031</td>\n",
       "    </tr>\n",
       "    <tr>\n",
       "      <th>4</th>\n",
       "      <td>51A-111.22</td>\n",
       "      <td>51A.77122</td>\n",
       "    </tr>\n",
       "  </tbody>\n",
       "</table>\n",
       "</div>"
      ],
      "text/plain": [
       "  Actual_Text Recognized_Text\n",
       "0  515-079.73      515.079.73\n",
       "1  51G-205.36       51c205.36\n",
       "2  51G-510.08       516-51008\n",
       "3  51F-244.03     BIF.244.031\n",
       "4  51A-111.22       51A.77122"
      ]
     },
     "execution_count": 11,
     "metadata": {},
     "output_type": "execute_result"
    }
   ],
   "source": [
    "import pandas as pd\n",
    "\n",
    "data = pd.read_excel(\"LP_recognition_experiments.xlsx\", sheet_name=\"Good\", usecols=[\"Actual_Text\", \"Recognized_Text\"])\n",
    "data.head()"
   ]
  },
  {
   "cell_type": "code",
   "execution_count": 12,
   "metadata": {},
   "outputs": [],
   "source": [
    "import Levenshtein\n",
    "\n",
    "def levenshtein_distance(str1, str2):\n",
    "    return Levenshtein.distance(str1, str2)"
   ]
  },
  {
   "cell_type": "code",
   "execution_count": 19,
   "metadata": {},
   "outputs": [],
   "source": [
    "import re\n",
    "\n",
    "def remove_non_alphanumeric(input_string):\n",
    "    result_string = re.sub(r'[^a-zA-Z0-9]', '', input_string)\n",
    "    return result_string"
   ]
  },
  {
   "cell_type": "code",
   "execution_count": 34,
   "metadata": {},
   "outputs": [
    {
     "name": "stdout",
     "output_type": "stream",
     "text": [
      "1.4705882352941178 0.19607843137254902\n"
     ]
    }
   ],
   "source": [
    "avg_levenshtein_dist = 0\n",
    "avg_filtered_levenshtein_dist = 0\n",
    "\n",
    "for _, row in data.iterrows():\n",
    "    avg_levenshtein_dist += levenshtein_distance(\n",
    "        row[\"Actual_Text\"], \n",
    "        row[\"Recognized_Text\"]\n",
    "    )\n",
    "    avg_filtered_levenshtein_dist += levenshtein_distance(\n",
    "        remove_non_alphanumeric(row[\"Actual_Text\"][0]),\n",
    "        remove_non_alphanumeric(row[\"Recognized_Text\"][0])\n",
    "    )\n",
    "avg_levenshtein_dist /= len(data)\n",
    "avg_filtered_levenshtein_dist /= len(data)\n",
    "print(avg_levenshtein_dist, avg_filtered_levenshtein_dist)"
   ]
  }
 ],
 "metadata": {
  "kernelspec": {
   "display_name": ".venv",
   "language": "python",
   "name": "python3"
  },
  "language_info": {
   "codemirror_mode": {
    "name": "ipython",
    "version": 3
   },
   "file_extension": ".py",
   "mimetype": "text/x-python",
   "name": "python",
   "nbconvert_exporter": "python",
   "pygments_lexer": "ipython3",
   "version": "3.10.13"
  }
 },
 "nbformat": 4,
 "nbformat_minor": 2
}
